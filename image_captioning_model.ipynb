{
 "cells": [
  {
   "cell_type": "code",
   "execution_count": 1,
   "metadata": {},
   "outputs": [
    {
     "name": "stderr",
     "output_type": "stream",
     "text": [
      "/Users/daniyalishfaq/miniforge3/envs/env_tf/lib/python3.10/site-packages/tqdm/auto.py:21: TqdmWarning: IProgress not found. Please update jupyter and ipywidgets. See https://ipywidgets.readthedocs.io/en/stable/user_install.html\n",
      "  from .autonotebook import tqdm as notebook_tqdm\n"
     ]
    }
   ],
   "source": [
    "import tensorflow as tf\n",
    "import os\n",
    "import json\n",
    "import pandas as pd\n",
    "import re\n",
    "import numpy as np\n",
    "import time\n",
    "import matplotlib.pyplot as plt\n",
    "import collections\n",
    "import random\n",
    "import requests\n",
    "import json\n",
    "from math import sqrt\n",
    "from PIL import Image\n",
    "from tqdm.auto import tqdm"
   ]
  },
  {
   "cell_type": "code",
   "execution_count": 2,
   "metadata": {},
   "outputs": [],
   "source": [
    "BASE_PATH = 'data/coco2017'"
   ]
  },
  {
   "cell_type": "code",
   "execution_count": 3,
   "metadata": {},
   "outputs": [
    {
     "data": {
      "text/html": [
       "<div>\n",
       "<style scoped>\n",
       "    .dataframe tbody tr th:only-of-type {\n",
       "        vertical-align: middle;\n",
       "    }\n",
       "\n",
       "    .dataframe tbody tr th {\n",
       "        vertical-align: top;\n",
       "    }\n",
       "\n",
       "    .dataframe thead th {\n",
       "        text-align: right;\n",
       "    }\n",
       "</style>\n",
       "<table border=\"1\" class=\"dataframe\">\n",
       "  <thead>\n",
       "    <tr style=\"text-align: right;\">\n",
       "      <th></th>\n",
       "      <th>image</th>\n",
       "      <th>caption</th>\n",
       "    </tr>\n",
       "  </thead>\n",
       "  <tbody>\n",
       "    <tr>\n",
       "      <th>0</th>\n",
       "      <td>data/coco2017/train2017/000000409744.jpg</td>\n",
       "      <td>A bathroom cubicle of toilet and sink in a bur...</td>\n",
       "    </tr>\n",
       "    <tr>\n",
       "      <th>1</th>\n",
       "      <td>data/coco2017/train2017/000000520187.jpg</td>\n",
       "      <td>Picture of a iron fence near a tree with green...</td>\n",
       "    </tr>\n",
       "    <tr>\n",
       "      <th>2</th>\n",
       "      <td>data/coco2017/train2017/000000565476.jpg</td>\n",
       "      <td>Closeup of various fruits that include bananas...</td>\n",
       "    </tr>\n",
       "    <tr>\n",
       "      <th>3</th>\n",
       "      <td>data/coco2017/train2017/000000393922.jpg</td>\n",
       "      <td>A sign that tells people how to get to France.</td>\n",
       "    </tr>\n",
       "    <tr>\n",
       "      <th>4</th>\n",
       "      <td>data/coco2017/train2017/000000578652.jpg</td>\n",
       "      <td>A large display of bananas some of them hangin...</td>\n",
       "    </tr>\n",
       "  </tbody>\n",
       "</table>\n",
       "</div>"
      ],
      "text/plain": [
       "                                      image  \\\n",
       "0  data/coco2017/train2017/000000409744.jpg   \n",
       "1  data/coco2017/train2017/000000520187.jpg   \n",
       "2  data/coco2017/train2017/000000565476.jpg   \n",
       "3  data/coco2017/train2017/000000393922.jpg   \n",
       "4  data/coco2017/train2017/000000578652.jpg   \n",
       "\n",
       "                                             caption  \n",
       "0  A bathroom cubicle of toilet and sink in a bur...  \n",
       "1  Picture of a iron fence near a tree with green...  \n",
       "2  Closeup of various fruits that include bananas...  \n",
       "3     A sign that tells people how to get to France.  \n",
       "4  A large display of bananas some of them hangin...  "
      ]
     },
     "execution_count": 3,
     "metadata": {},
     "output_type": "execute_result"
    }
   ],
   "source": [
    "with open(f'{BASE_PATH}/annotations/captions_train2017.json', 'r') as f:\n",
    "    data = json.load(f)\n",
    "    data = data['annotations']\n",
    "\n",
    "img_cap_pairs = []\n",
    "\n",
    "for sample in data:\n",
    "    img_name = '%012d.jpg' % sample['image_id']\n",
    "    img_cap_pairs.append([img_name, sample['caption']])\n",
    "\n",
    "captions = pd.DataFrame(img_cap_pairs, columns=['image', 'caption'])\n",
    "captions['image'] = captions['image'].apply(\n",
    "    lambda x: f'{BASE_PATH}/train2017/{x}'\n",
    ")\n",
    "captions = captions.sample(70000)\n",
    "captions = captions.reset_index(drop=True)\n",
    "captions.head()"
   ]
  },
  {
   "cell_type": "code",
   "execution_count": null,
   "metadata": {},
   "outputs": [],
   "source": []
  }
 ],
 "metadata": {
  "kernelspec": {
   "display_name": "env_tf",
   "language": "python",
   "name": "python3"
  },
  "language_info": {
   "codemirror_mode": {
    "name": "ipython",
    "version": 3
   },
   "file_extension": ".py",
   "mimetype": "text/x-python",
   "name": "python",
   "nbconvert_exporter": "python",
   "pygments_lexer": "ipython3",
   "version": "3.10.9"
  },
  "orig_nbformat": 4
 },
 "nbformat": 4,
 "nbformat_minor": 2
}
